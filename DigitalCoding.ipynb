{
  "nbformat": 4,
  "nbformat_minor": 0,
  "metadata": {
    "colab": {
      "name": "DigitalCoding.ipynb",
      "provenance": [],
      "collapsed_sections": [],
      "toc_visible": true,
      "authorship_tag": "ABX9TyOuUkbgFH5ErlqHp3CfgVaI",
      "include_colab_link": true
    },
    "kernelspec": {
      "name": "python3",
      "display_name": "Python 3"
    },
    "language_info": {
      "name": "python"
    }
  },
  "cells": [
    {
      "cell_type": "markdown",
      "metadata": {
        "id": "view-in-github",
        "colab_type": "text"
      },
      "source": [
        "<a href=\"https://colab.research.google.com/github/kimwisso20/kimwisso20/blob/main/DigitalCoding.ipynb\" target=\"_parent\"><img src=\"https://colab.research.google.com/assets/colab-badge.svg\" alt=\"Open In Colab\"/></a>"
      ]
    },
    {
      "cell_type": "code",
      "source": [
        "import matplotlib.pyplot as plt\n",
        "import numpy as np\n",
        "import os\n",
        "import pickle"
      ],
      "metadata": {
        "id": "zgtXXjm5UWtA"
      },
      "execution_count": 3,
      "outputs": []
    },
    {
      "cell_type": "markdown",
      "source": [
        "### **NRZ** Codage + Decodage"
      ],
      "metadata": {
        "id": "AMe_4Ur8SF3_"
      }
    },
    {
      "cell_type": "code",
      "source": [
        "def encode_NRZ(sequence):\n",
        "    liste=list(sequence)\n",
        "    v=[]\n",
        "    T=10\n",
        "    for i in liste:\n",
        "        if i=='0':\n",
        "            for i in range(T):\n",
        "                v.append(-5)\n",
        "        else:\n",
        "            for i in range(T):\n",
        "                v.append(5)\n",
        "    plt.plot(v) \n",
        "    plt.xlabel('Temps par s')\n",
        "    plt.ylabel('Tension ')\n",
        "    plt.title('NRZ')\n",
        "    plt.grid()\n",
        "    return print(\"v= \",v)\n",
        "encode_NRZ('0101111')"
      ],
      "metadata": {
        "colab": {
          "base_uri": "https://localhost:8080/",
          "height": 333
        },
        "id": "vCVK5aQaSQ5-",
        "outputId": "cf2b8537-5781-4b5a-a246-8c9c0aa4890e"
      },
      "execution_count": 5,
      "outputs": [
        {
          "output_type": "stream",
          "name": "stdout",
          "text": [
            "v=  [-5, -5, -5, -5, -5, -5, -5, -5, -5, -5, 5, 5, 5, 5, 5, 5, 5, 5, 5, 5, -5, -5, -5, -5, -5, -5, -5, -5, -5, -5, 5, 5, 5, 5, 5, 5, 5, 5, 5, 5, 5, 5, 5, 5, 5, 5, 5, 5, 5, 5, 5, 5, 5, 5, 5, 5, 5, 5, 5, 5, 5, 5, 5, 5, 5, 5, 5, 5, 5, 5]\n"
          ]
        },
        {
          "output_type": "display_data",
          "data": {
            "text/plain": [
              "<Figure size 432x288 with 1 Axes>"
            ],
            "image/png": "[encoded data removed]"
          },
          "metadata": {
            "needs_background": "light"
          }
        }
      ]
    },
    {
      "cell_type": "code",
      "source": [
        ""
      ],
      "metadata": {
        "id": "XlZrVHPsVI8D"
      },
      "execution_count": null,
      "outputs": []
    },
    {
      "cell_type": "markdown",
      "source": [
        "# **RZ Codage et Decodage**"
      ],
      "metadata": {
        "id": "QNFQfkWqT8eL"
      }
    },
    {
      "cell_type": "code",
      "source": [
        "#unipolaire\n",
        "\n",
        "def encode_RZ_unipol(sequence):\n",
        "      liste=list(sequence)\n",
        "      vect1=[]\n",
        "      T=10\n",
        "      demi=int(T/2)\n",
        "      for i in  liste:\n",
        "          if i=='1':\n",
        "              for i in range(demi):\n",
        "                  vect1.append(5)\n",
        "              for i in range(demi):\n",
        "                  vect1.append(0)\n",
        "          else:\n",
        "              for i in range(T):\n",
        "                  vect1.append(0)\n",
        "                  \n",
        "      plt.plot(vect1)   \n",
        "      plt.xlabel('Temps par s')\n",
        "      plt.ylabel('Tension ')\n",
        "      plt.title('RZ unipolaire')\n",
        "      plt.grid()\n",
        "      return print(\"vect1=\",vect1)\n",
        "encode_RZ_unipol(\"10100\")"
      ],
      "metadata": {
        "colab": {
          "base_uri": "https://localhost:8080/",
          "height": 333
        },
        "id": "JOfpPOqlVFw3",
        "outputId": "d28ac359-b23d-49fe-913a-d49fbc95c07b"
      },
      "execution_count": 20,
      "outputs": [
        {
          "output_type": "stream",
          "name": "stdout",
          "text": [
            "vect1= [5, 5, 5, 5, 5, 0, 0, 0, 0, 0, 0, 0, 0, 0, 0, 0, 0, 0, 0, 0, 5, 5, 5, 5, 5, 0, 0, 0, 0, 0, 0, 0, 0, 0, 0, 0, 0, 0, 0, 0, 0, 0, 0, 0, 0, 0, 0, 0, 0, 0]\n"
          ]
        },
        {
          "output_type": "display_data",
          "data": {
            "text/plain": [
              "<Figure size 432x288 with 1 Axes>"
            ],
            "image/png": "[encoded data removed]"
          },
          "metadata": {
            "needs_background": "light"
          }
        }
      ]
    },
    {
      "cell_type": "code",
      "source": [
        "#bipolaire\n",
        "def encode_RZ_bipol(sequence):\n",
        "    liste=list(sequence)\n",
        "    vect2=[]\n",
        "    T=10\n",
        "    demi=int(T/2)\n",
        "    for i in liste:\n",
        "        if i=='1':\n",
        "            for i in range(demi):\n",
        "                vect2.append(5)\n",
        "            for i in range(demi):\n",
        "                vect2.append(0)\n",
        "        else:\n",
        "            for i in range(demi):\n",
        "                vect2.append(-5)\n",
        "            for i in range(demi):\n",
        "                vect2.append(0)\n",
        "        \n",
        "    plt.plot(vect2)       \n",
        "    plt.xlabel('Temps par s')\n",
        "    plt.ylabel('Tension ')\n",
        "    plt.title('RZ bipolaire')\n",
        "    plt.grid()\n",
        "    return print(\"vect2=\",vect2)\n",
        "encode_RZ_bipol(\"101001\")    "
      ],
      "metadata": {
        "colab": {
          "base_uri": "https://localhost:8080/",
          "height": 333
        },
        "id": "7D1MMXdbWG--",
        "outputId": "27dcb694-65bc-4369-964f-d7d3c5c2e969"
      },
      "execution_count": 19,
      "outputs": [
        {
          "output_type": "stream",
          "name": "stdout",
          "text": [
            "vect2= [5, 5, 5, 5, 5, 0, 0, 0, 0, 0, -5, -5, -5, -5, -5, 0, 0, 0, 0, 0, 5, 5, 5, 5, 5, 0, 0, 0, 0, 0, -5, -5, -5, -5, -5, 0, 0, 0, 0, 0, -5, -5, -5, -5, -5, 0, 0, 0, 0, 0, 5, 5, 5, 5, 5, 0, 0, 0, 0, 0]\n"
          ]
        },
        {
          "output_type": "display_data",
          "data": {
            "text/plain": [
              "<Figure size 432x288 with 1 Axes>"
            ],
            "image/png": "[encoded data removed]"
          },
          "metadata": {
            "needs_background": "light"
          }
        }
      ]
    },
    {
      "cell_type": "code",
      "source": [
        ""
      ],
      "metadata": {
        "id": "XiIrAJl_W8D2"
      },
      "execution_count": null,
      "outputs": []
    },
    {
      "cell_type": "code",
      "source": [
        ""
      ],
      "metadata": {
        "id": "Z1BD2-mHYPCn"
      },
      "execution_count": null,
      "outputs": []
    },
    {
      "cell_type": "markdown",
      "source": [
        "# **Manchester codage et Decodage**"
      ],
      "metadata": {
        "id": "E3xjcuXiYfpp"
      }
    },
    {
      "cell_type": "code",
      "source": [
        "def encode_Manchester(sequence): \n",
        "    liste=list(sequence) \n",
        "    T=10\n",
        "    demi=int(T/2)\n",
        "    vect2=[]\n",
        "    for  i in liste:\n",
        "        if i==0:\n",
        "            HG =[-5 for i in range(demi)]  \n",
        "            HGL=[5  for i in range(demi)] \n",
        "            vect2=vect2+HG+HGL  \n",
        "        else:\n",
        "                GH =[5 for i in range(demi)]  \n",
        "                GHL=[-5 for i in range(demi)] \n",
        "                vect2=vect2+GH+GHL\n",
        "    plt.plot(vect2) \n",
        "    plt.xlabel('Temps par s')\n",
        "    plt.ylabel('Tension ')\n",
        "    plt.title('Manchester')           \n",
        "    plt.grid()\n",
        "    return print('vect=',vect2)\n",
        "encode_Manchester('0011011')    "
      ],
      "metadata": {
        "colab": {
          "base_uri": "https://localhost:8080/",
          "height": 333
        },
        "id": "0qGrvQ34YPoY",
        "outputId": "8cb48478-43ec-433d-d514-09b7eb59118d"
      },
      "execution_count": 22,
      "outputs": [
        {
          "output_type": "stream",
          "name": "stdout",
          "text": [
            "vect= [5, 5, 5, 5, 5, -5, -5, -5, -5, -5, 5, 5, 5, 5, 5, -5, -5, -5, -5, -5, 5, 5, 5, 5, 5, -5, -5, -5, -5, -5, 5, 5, 5, 5, 5, -5, -5, -5, -5, -5, 5, 5, 5, 5, 5, -5, -5, -5, -5, -5, 5, 5, 5, 5, 5, -5, -5, -5, -5, -5, 5, 5, 5, 5, 5, -5, -5, -5, -5, -5]\n"
          ]
        },
        {
          "output_type": "display_data",
          "data": {
            "text/plain": [
              "<Figure size 432x288 with 1 Axes>"
            ],
            "image/png": "[encoded data removed]"
          },
          "metadata": {
            "needs_background": "light"
          }
        }
      ]
    },
    {
      "cell_type": "code",
      "source": [
        ""
      ],
      "metadata": {
        "id": "_gTYhJpAYTOl"
      },
      "execution_count": null,
      "outputs": []
    },
    {
      "cell_type": "markdown",
      "source": [
        "# **NRZI Codage et Decodage**"
      ],
      "metadata": {
        "id": "Xd6EoBGcZeOu"
      }
    },
    {
      "cell_type": "code",
      "source": [
        "def encode_NRZI(sequence):     \n",
        "      T=10\n",
        "      #count=[]\n",
        "      f=[]\n",
        "      f1=[-5 for i in range(T)]\n",
        "      f2=[ 5 for i in range(T)]\n",
        "      for i in  range(len(sequence)):\n",
        "          if sequence.startswith(sequence[i])==True:\n",
        "              f+=f1\n",
        "              #count\n",
        "          else:\n",
        "              f+=f2\n",
        "          if sequence[i]=='1':\n",
        "              if sequence[i-1]=='0' or sequence[i-1]=='1':\n",
        "                \n",
        "                      if f[T-1]==5:\n",
        "                          f+=f1\n",
        "                      else:\n",
        "                          f+=f2\n",
        "          else:\n",
        "              if f[T-1]==5:\n",
        "                  f+=f1\n",
        "              else:\n",
        "                  f+=f2\n",
        "      plt.plot(f)\n",
        "      plt.xlabel('Temps par s')\n",
        "      plt.ylabel('Tension ')\n",
        "      plt.title('NRZI')           \n",
        "      plt.grid()\n",
        "      return print('vect=',f)\n",
        "encode_NRZI('O1O111O')     "
      ],
      "metadata": {
        "colab": {
          "base_uri": "https://localhost:8080/",
          "height": 333
        },
        "id": "-fERQG3fYTkF",
        "outputId": "610a5674-52ae-48cb-b374-1ee126d7e743"
      },
      "execution_count": 23,
      "outputs": [
        {
          "output_type": "stream",
          "name": "stdout",
          "text": [
            "vect= [-5, -5, -5, -5, -5, -5, -5, -5, -5, -5, 5, 5, 5, 5, 5, 5, 5, 5, 5, 5, 5, 5, 5, 5, 5, 5, 5, 5, 5, 5, -5, -5, -5, -5, -5, -5, -5, -5, -5, -5, 5, 5, 5, 5, 5, 5, 5, 5, 5, 5, 5, 5, 5, 5, 5, 5, 5, 5, 5, 5, 5, 5, 5, 5, 5, 5, 5, 5, 5, 5, 5, 5, 5, 5, 5, 5, 5, 5, 5, 5, 5, 5, 5, 5, 5, 5, 5, 5, 5, 5, 5, 5, 5, 5, 5, 5, 5, 5, 5, 5, -5, -5, -5, -5, -5, -5, -5, -5, -5, -5, 5, 5, 5, 5, 5, 5, 5, 5, 5, 5]\n"
          ]
        },
        {
          "output_type": "display_data",
          "data": {
            "text/plain": [
              "<Figure size 432x288 with 1 Axes>"
            ],
            "image/png": "[encoded data removed]"
          },
          "metadata": {
            "needs_background": "light"
          }
        }
      ]
    },
    {
      "cell_type": "code",
      "source": [
        ""
      ],
      "metadata": {
        "id": "S-X5t3E7YUU7"
      },
      "execution_count": null,
      "outputs": []
    },
    {
      "cell_type": "markdown",
      "source": [
        "# **AMI Codage et Decodage**"
      ],
      "metadata": {
        "id": "O_a3IzJvb1Hn"
      }
    },
    {
      "cell_type": "code",
      "source": [
        "def encode_AMI(sequence):  \n",
        "        T=10\n",
        "        V1=[5 for i in range(T//2)]\n",
        "        V2=[-5 for i in range(T//2)]\n",
        "        f=[0 for i in range(T)]\n",
        "        pl=[]\n",
        "        if sequence.startswith('1')==True:\n",
        "                pl+=V1+V2\n",
        "        else:\n",
        "            pl+=V2+V1\n",
        "        for i in range(len(sequence)-1):\n",
        "          \n",
        "          if sequence[i+1] =='1':\n",
        "              if pl[-1]==-5:\n",
        "                  pl+=V2+V1\n",
        "              else :\n",
        "                  pl+=V1+V2\n",
        "          else:\n",
        "              pl+=f \n",
        "        plt.plot(pl)\n",
        "        plt.xlabel('Temps par s')\n",
        "        plt.ylabel('Tension ')\n",
        "        plt.title('AMI')           \n",
        "        plt.grid()      \n",
        "        return print('vect=',pl)         \n",
        "          \n",
        "encode_AMI('111011100')"
      ],
      "metadata": {
        "colab": {
          "base_uri": "https://localhost:8080/",
          "height": 333
        },
        "id": "yoiDf8bIYUje",
        "outputId": "ca050ff6-2c37-45ff-c898-0540932d0139"
      },
      "execution_count": 24,
      "outputs": [
        {
          "output_type": "stream",
          "name": "stdout",
          "text": [
            "vect= [5, 5, 5, 5, 5, -5, -5, -5, -5, -5, -5, -5, -5, -5, -5, 5, 5, 5, 5, 5, 5, 5, 5, 5, 5, -5, -5, -5, -5, -5, 0, 0, 0, 0, 0, 0, 0, 0, 0, 0, 5, 5, 5, 5, 5, -5, -5, -5, -5, -5, -5, -5, -5, -5, -5, 5, 5, 5, 5, 5, 5, 5, 5, 5, 5, -5, -5, -5, -5, -5, 0, 0, 0, 0, 0, 0, 0, 0, 0, 0, 0, 0, 0, 0, 0, 0, 0, 0, 0, 0]\n"
          ]
        },
        {
          "output_type": "display_data",
          "data": {
            "text/plain": [
              "<Figure size 432x288 with 1 Axes>"
            ],
            "image/png": "[encoded data removed]"
          },
          "metadata": {
            "needs_background": "light"
          }
        }
      ]
    },
    {
      "cell_type": "code",
      "source": [
        ""
      ],
      "metadata": {
        "id": "QURgQmA6YVLN"
      },
      "execution_count": null,
      "outputs": []
    },
    {
      "cell_type": "markdown",
      "source": [
        "# **2B1Q Codage et Decodage**"
      ],
      "metadata": {
        "id": "mt42KHoPdJwV"
      }
    },
    {
      "cell_type": "code",
      "source": [
        ""
      ],
      "metadata": {
        "id": "yL171ajJdFnT"
      },
      "execution_count": null,
      "outputs": []
    },
    {
      "cell_type": "code",
      "source": [
        "def decode_2B1(tension):\n",
        "      sequence=''\n",
        "      for i in tension:\n",
        "        if i==3:\n",
        "            sequence+='10'\n",
        "        elif i==-3:\n",
        "             sequence+='00'\n",
        "        elif i==-1:\n",
        "             sequence+='01' \n",
        "        else:\n",
        "             sequence+='11'\n",
        "        return sequence   \n",
        "   "
      ],
      "metadata": {
        "id": "LdURpZN7YVkZ"
      },
      "execution_count": 47,
      "outputs": []
    },
    {
      "cell_type": "code",
      "source": [
        "def  encode_2B1Q(sequence): \n",
        "    print(len(sequence)) \n",
        "    t=[]\n",
        "    T=10\n",
        "    for i in range(0,len(sequence),2):\n",
        "        c=sequence[i]\n",
        "        n=sequence[i+1]\n",
        "        if c+n=='00':\n",
        "          for i in range(T):\n",
        "            t.append(-3)\n",
        "            \n",
        "        elif c+n=='01':\n",
        "          for i in range(T):\n",
        "            t.append(-1)\n",
        "        elif c+n=='11':\n",
        "          for i in range(T):\n",
        "            t.append(1)\n",
        "        elif  c+n=='10':\n",
        "          for i in range(T):\n",
        "              t.append(3)\n",
        "        else:\n",
        "          for i in range(T):\n",
        "              t.append(0) \n",
        "        if sequence[:-1]==sequence[i]:\n",
        "              continue   \n",
        "                  \n",
        "    return t      ,len(t)\n",
        "B1Q=encode_2B1Q('1100101011011110') \n",
        "print(B1Q) \n"
      ],
      "metadata": {
        "colab": {
          "base_uri": "https://localhost:8080/"
        },
        "id": "k1crUfi8YVu-",
        "outputId": "fe03b463-356b-4652-d82d-7dfb6e64c568"
      },
      "execution_count": 99,
      "outputs": [
        {
          "output_type": "stream",
          "name": "stdout",
          "text": [
            "16\n",
            "([1, 1, 1, 1, 1, 1, 1, 1, 1, 1, -3, -3, -3, -3, -3, -3, -3, -3, -3, -3, 3, 3, 3, 3, 3, 3, 3, 3, 3, 3, 3, 3, 3, 3, 3, 3, 3, 3, 3, 3, 1, 1, 1, 1, 1, 1, 1, 1, 1, 1, -1, -1, -1, -1, -1, -1, -1, -1, -1, -1, 1, 1, 1, 1, 1, 1, 1, 1, 1, 1, 3, 3, 3, 3, 3, 3, 3, 3, 3, 3], 80)\n"
          ]
        }
      ]
    },
    {
      "cell_type": "code",
      "source": [
        ""
      ],
      "metadata": {
        "id": "uruaeyhy1bzq"
      },
      "execution_count": 98,
      "outputs": []
    },
    {
      "cell_type": "code",
      "source": [
        "liste=encode_2B1Q('1100101011011110') \n",
        "count=1 \n",
        "L=[]\n",
        "for i in range(len(liste)-1):\n",
        "       c=liste[i]\n",
        "       n=liste[i+1]\n",
        "       if c==n:\n",
        "         count+=1\n",
        "         continue\n",
        "       else:\n",
        "         L.append([count,c])\n",
        "         c=liste[i]\n",
        "         count=1\n",
        "print(L[0][1]) \n",
        "print(L)\n",
        "chaine=''\n",
        "T=10\n",
        "for i in range(len(L) ):\n",
        "  if L[i][0]==T:\n",
        "       if L[i][1]==1:\n",
        "         chaine+='11'\n",
        "       elif  L[i][1]==-3:\n",
        "          chaine+='00'\n",
        "       elif L[i][1]==-1:\n",
        "          chaine+='01' \n",
        "       elif L[i][1]==3:\n",
        "          chaine+='10' \n",
        "  else:\n",
        "        n=L[i][0]//T\n",
        "        if L[i][1]==1:\n",
        "            chaine+=n*'11'\n",
        "        elif  L[i][1]==-3:\n",
        "            chaine+=n*'00'\n",
        "        elif L[i][1]==-1:\n",
        "            chaine+=n*'01' \n",
        "        elif L[i][1]==3:\n",
        "            chaine+=n*'10' \n",
        "print('1100101011011110')            \n",
        "chaine"
      ],
      "metadata": {
        "colab": {
          "base_uri": "https://localhost:8080/"
        },
        "id": "jdDGYo3FYV1M",
        "outputId": "8a20f6b5-81b1-4ef5-9b82-45c36d51c10e"
      },
      "execution_count": 72,
      "outputs": [
        {
          "output_type": "stream",
          "name": "stdout",
          "text": [
            "1\n",
            "[[10, 1], [10, -3], [20, 3], [10, 1], [10, -1], [10, 1]]\n"
          ]
        }
      ]
    },
    {
      "cell_type": "markdown",
      "source": [
        ""
      ],
      "metadata": {
        "id": "dZ3DX2-rYV6j"
      }
    },
    {
      "cell_type": "code",
      "source": [
        ""
      ],
      "metadata": {
        "id": "PLlvH24FYWFK"
      },
      "execution_count": null,
      "outputs": []
    }
  ]
}
